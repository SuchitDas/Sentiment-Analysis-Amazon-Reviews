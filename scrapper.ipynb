{
 "cells": [
  {
   "cell_type": "markdown",
   "id": "f3e2f0ab",
   "metadata": {},
   "source": [
    "# Assignment 2\n",
    "\n",
    "**Name - Rahul Singla**<br>\n",
    "**EID - rs57244**<br>\n",
    "\n",
    "**Name - Anant Gupta**<br>\n",
    "**EID - ag78593**<br>\n",
    "\n",
    "**Name - Ishan Patel**<br>\n",
    "**EID - ikp97**<br>\n",
    "\n",
    "**Name - Vinay Pahwa**<br>\n",
    "**EID - vp7339**<br>\n",
    "\n",
    "**Name - Suchit Das**<br>\n",
    "**EID - sd38448**<br>\n",
    "\n",
    "10:30AM Cohort"
   ]
  },
  {
   "cell_type": "markdown",
   "id": "c37ad8e1",
   "metadata": {},
   "source": [
    "# Task A"
   ]
  },
  {
   "cell_type": "code",
   "execution_count": 1,
   "id": "16ece804",
   "metadata": {
    "ExecuteTime": {
     "end_time": "2021-10-19T01:15:34.237245Z",
     "start_time": "2021-10-19T01:15:33.678591Z"
    }
   },
   "outputs": [],
   "source": [
    "import requests\n",
    "from bs4 import BeautifulSoup\n",
    "\n",
    "import pandas as pd\n",
    "import numpy as np\n",
    "import regex as re"
   ]
  },
  {
   "cell_type": "code",
   "execution_count": 2,
   "id": "75a8fdb4",
   "metadata": {
    "ExecuteTime": {
     "end_time": "2021-10-19T01:15:34.278584Z",
     "start_time": "2021-10-19T01:15:34.266552Z"
    }
   },
   "outputs": [],
   "source": [
    "main_url = 'https://www.beeradvocate.com/beer/top-rated/'"
   ]
  },
  {
   "cell_type": "code",
   "execution_count": 3,
   "id": "a746daa1",
   "metadata": {
    "ExecuteTime": {
     "end_time": "2021-10-19T01:15:35.762780Z",
     "start_time": "2021-10-19T01:15:34.652380Z"
    }
   },
   "outputs": [],
   "source": [
    "r = requests.get(main_url)\n",
    "soup = BeautifulSoup(r.text, 'html.parser')"
   ]
  },
  {
   "cell_type": "code",
   "execution_count": 4,
   "id": "65c83097",
   "metadata": {
    "ExecuteTime": {
     "end_time": "2021-10-19T01:15:36.265268Z",
     "start_time": "2021-10-19T01:15:36.206861Z"
    }
   },
   "outputs": [
    {
     "name": "stdout",
     "output_type": "stream",
     "text": [
      "250\n",
      "['https://www.beeradvocate.com/beer/profile/23222/78820/', 'https://www.beeradvocate.com/beer/profile/26/42349/', 'https://www.beeradvocate.com/beer/profile/17981/110635/', 'https://www.beeradvocate.com/beer/profile/25888/87246/', 'https://www.beeradvocate.com/beer/profile/46317/16814/']\n"
     ]
    }
   ],
   "source": [
    "links = []\n",
    "table_items = soup.find_all('tr')\n",
    "for item in table_items:\n",
    "    if item.find('a'):\n",
    "        url = 'https://www.beeradvocate.com' + item.find('a')['href']\n",
    "        links = links + [url]\n",
    "\n",
    "n = len(links)\n",
    "print(n)\n",
    "print(links[:5])"
   ]
  },
  {
   "cell_type": "code",
   "execution_count": 5,
   "id": "2b8f4bce",
   "metadata": {
    "ExecuteTime": {
     "end_time": "2021-10-19T01:15:37.006280Z",
     "start_time": "2021-10-19T01:15:36.994872Z"
    }
   },
   "outputs": [],
   "source": [
    "def clean_title(string):\n",
    "    string = string.replace('\\n', ' ').replace('<br>', \"\")\n",
    "    string = re.sub(r'[^\\w]', ' ', string)\n",
    "    \n",
    "    return string"
   ]
  },
  {
   "cell_type": "code",
   "execution_count": 6,
   "id": "372c9272",
   "metadata": {
    "ExecuteTime": {
     "end_time": "2021-10-19T01:18:45.077009Z",
     "start_time": "2021-10-19T01:15:37.747752Z"
    }
   },
   "outputs": [
    {
     "data": {
      "text/html": [
       "<div>\n",
       "<style scoped>\n",
       "    .dataframe tbody tr th:only-of-type {\n",
       "        vertical-align: middle;\n",
       "    }\n",
       "\n",
       "    .dataframe tbody tr th {\n",
       "        vertical-align: top;\n",
       "    }\n",
       "\n",
       "    .dataframe thead th {\n",
       "        text-align: right;\n",
       "    }\n",
       "</style>\n",
       "<table border=\"1\" class=\"dataframe\">\n",
       "  <thead>\n",
       "    <tr style=\"text-align: right;\">\n",
       "      <th></th>\n",
       "      <th>product_name</th>\n",
       "      <th>product_review</th>\n",
       "      <th>user_rating</th>\n",
       "    </tr>\n",
       "  </thead>\n",
       "  <tbody>\n",
       "    <tr>\n",
       "      <th>0</th>\n",
       "      <td>Kentucky Brunch Brand Stout</td>\n",
       "      <td>2020 vintage acquired during the pandemic  It ...</td>\n",
       "      <td>5.00</td>\n",
       "    </tr>\n",
       "    <tr>\n",
       "      <th>1</th>\n",
       "      <td>Kentucky Brunch Brand Stout</td>\n",
       "      <td>Long time waiting to tick this one  and I have...</td>\n",
       "      <td>4.56</td>\n",
       "    </tr>\n",
       "    <tr>\n",
       "      <th>2</th>\n",
       "      <td>Kentucky Brunch Brand Stout</td>\n",
       "      <td>This review is for the 2019 batch  It was bott...</td>\n",
       "      <td>5.00</td>\n",
       "    </tr>\n",
       "    <tr>\n",
       "      <th>3</th>\n",
       "      <td>Kentucky Brunch Brand Stout</td>\n",
       "      <td>Supreme maple OD  Soooo easy drinking  amp  we...</td>\n",
       "      <td>5.00</td>\n",
       "    </tr>\n",
       "    <tr>\n",
       "      <th>4</th>\n",
       "      <td>Kentucky Brunch Brand Stout</td>\n",
       "      <td>I have now had 4 different years of KBBS and c...</td>\n",
       "      <td>5.00</td>\n",
       "    </tr>\n",
       "    <tr>\n",
       "      <th>...</th>\n",
       "      <td>...</td>\n",
       "      <td>...</td>\n",
       "      <td>...</td>\n",
       "    </tr>\n",
       "    <tr>\n",
       "      <th>6222</th>\n",
       "      <td>Dragonsaddle</td>\n",
       "      <td>For me  I have experienced all of the hoof hea...</td>\n",
       "      <td>4.75</td>\n",
       "    </tr>\n",
       "    <tr>\n",
       "      <th>6223</th>\n",
       "      <td>Dragonsaddle</td>\n",
       "      <td>fresh can drank on 11 5 2016  very hazy golden...</td>\n",
       "      <td>4.50</td>\n",
       "    </tr>\n",
       "    <tr>\n",
       "      <th>6224</th>\n",
       "      <td>Dragonsaddle</td>\n",
       "      <td>1 PINT can Served in an oversized stemless win...</td>\n",
       "      <td>4.40</td>\n",
       "    </tr>\n",
       "    <tr>\n",
       "      <th>6225</th>\n",
       "      <td>Dragonsaddle</td>\n",
       "      <td>L  Pours a dark gold with a nice head that sta...</td>\n",
       "      <td>4.79</td>\n",
       "    </tr>\n",
       "    <tr>\n",
       "      <th>6226</th>\n",
       "      <td>Dragonsaddle</td>\n",
       "      <td>First beer I ve given a 5 across the board  be...</td>\n",
       "      <td>5.00</td>\n",
       "    </tr>\n",
       "  </tbody>\n",
       "</table>\n",
       "<p>6227 rows × 3 columns</p>\n",
       "</div>"
      ],
      "text/plain": [
       "                      product_name  \\\n",
       "0      Kentucky Brunch Brand Stout   \n",
       "1      Kentucky Brunch Brand Stout   \n",
       "2      Kentucky Brunch Brand Stout   \n",
       "3      Kentucky Brunch Brand Stout   \n",
       "4      Kentucky Brunch Brand Stout   \n",
       "...                            ...   \n",
       "6222                  Dragonsaddle   \n",
       "6223                  Dragonsaddle   \n",
       "6224                  Dragonsaddle   \n",
       "6225                  Dragonsaddle   \n",
       "6226                  Dragonsaddle   \n",
       "\n",
       "                                         product_review  user_rating  \n",
       "0     2020 vintage acquired during the pandemic  It ...         5.00  \n",
       "1     Long time waiting to tick this one  and I have...         4.56  \n",
       "2     This review is for the 2019 batch  It was bott...         5.00  \n",
       "3     Supreme maple OD  Soooo easy drinking  amp  we...         5.00  \n",
       "4     I have now had 4 different years of KBBS and c...         5.00  \n",
       "...                                                 ...          ...  \n",
       "6222  For me  I have experienced all of the hoof hea...         4.75  \n",
       "6223  fresh can drank on 11 5 2016  very hazy golden...         4.50  \n",
       "6224  1 PINT can Served in an oversized stemless win...         4.40  \n",
       "6225  L  Pours a dark gold with a nice head that sta...         4.79  \n",
       "6226  First beer I ve given a 5 across the board  be...         5.00  \n",
       "\n",
       "[6227 rows x 3 columns]"
      ]
     },
     "execution_count": 6,
     "metadata": {},
     "output_type": "execute_result"
    }
   ],
   "source": [
    "reviews = pd.DataFrame(columns=['product_name','product_review', 'user_rating'])\n",
    "\n",
    "i = 0\n",
    "for link in links:\n",
    "    r = requests.get(link)\n",
    "    soup = BeautifulSoup(r.text, 'html.parser')\n",
    "    \n",
    "    product_name = soup.find('div', {'class':'titleBar'}).text\n",
    "    sub_tile = soup.find('div', {'class':'titleBar'}).find('span').text\n",
    "    product_name = product_name[:-len(sub_tile)-1]\n",
    "    product_name = clean_title(product_name)\n",
    "    \n",
    "    for review in soup.find_all('div', {'id':'rating_fullview_container'}):\n",
    "        review_text = clean_title(str(review).split('<br/>')[5])\n",
    "        user_rating = float(review.find('span', {'class': 'BAscore_norm'}).text)\n",
    "        reviews.loc[i] = [product_name, review_text, user_rating]\n",
    "        i += 1\n",
    "\n",
    "reviews"
   ]
  },
  {
   "cell_type": "code",
   "execution_count": 7,
   "id": "6577fe8c",
   "metadata": {
    "ExecuteTime": {
     "end_time": "2021-10-19T01:18:45.850829Z",
     "start_time": "2021-10-19T01:18:45.584147Z"
    }
   },
   "outputs": [],
   "source": [
    "reviews.to_csv('reviews.csv', index=False)"
   ]
  },
  {
   "cell_type": "code",
   "execution_count": null,
   "id": "5ed0baea",
   "metadata": {},
   "outputs": [],
   "source": []
  }
 ],
 "metadata": {
  "gist": {
   "data": {
    "description": "studies/unstructured analysis/sentiment_analysis/scrapper.ipynb",
    "public": true
   },
   "id": ""
  },
  "kernelspec": {
   "display_name": "Python 3",
   "language": "python",
   "name": "python3"
  },
  "language_info": {
   "codemirror_mode": {
    "name": "ipython",
    "version": 3
   },
   "file_extension": ".py",
   "mimetype": "text/x-python",
   "name": "python",
   "nbconvert_exporter": "python",
   "pygments_lexer": "ipython3",
   "version": "3.8.8"
  },
  "notify_time": "30",
  "varInspector": {
   "cols": {
    "lenName": 16,
    "lenType": 16,
    "lenVar": 40
   },
   "kernels_config": {
    "python": {
     "delete_cmd_postfix": "",
     "delete_cmd_prefix": "del ",
     "library": "var_list.py",
     "varRefreshCmd": "print(var_dic_list())"
    },
    "r": {
     "delete_cmd_postfix": ") ",
     "delete_cmd_prefix": "rm(",
     "library": "var_list.r",
     "varRefreshCmd": "cat(var_dic_list()) "
    }
   },
   "types_to_exclude": [
    "module",
    "function",
    "builtin_function_or_method",
    "instance",
    "_Feature"
   ],
   "window_display": false
  }
 },
 "nbformat": 4,
 "nbformat_minor": 5
}
