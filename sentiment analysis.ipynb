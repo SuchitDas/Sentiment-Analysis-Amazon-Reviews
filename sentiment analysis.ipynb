{
 "cells": [
  {
   "cell_type": "markdown",
   "id": "5d2ae1db",
   "metadata": {},
   "source": [
    "# Assignment 2\n",
    "\n",
    "**Name - Rahul Singla**<br>\n",
    "**EID - rs57244**<br>\n",
    "\n",
    "**Name - Anant Gupta**<br>\n",
    "**EID - ag78593**<br>\n",
    "\n",
    "**Name - Ishan Patel**<br>\n",
    "**EID - ikp97**<br>\n",
    "\n",
    "**Name - Vinay Pahwa**<br>\n",
    "**EID - vp7339**<br>\n",
    "\n",
    "**Name - Suchit Das**<br>\n",
    "**EID - sd38448**<br>\n",
    "\n",
    "10:30AM Cohort"
   ]
  },
  {
   "cell_type": "markdown",
   "id": "f9445a1b",
   "metadata": {},
   "source": [
    "# Task B"
   ]
  },
  {
   "cell_type": "code",
   "execution_count": 13,
   "id": "172e9078",
   "metadata": {
    "ExecuteTime": {
     "end_time": "2021-10-19T01:24:45.936176Z",
     "start_time": "2021-10-19T01:24:45.917799Z"
    }
   },
   "outputs": [],
   "source": [
    "import pandas as pd\n",
    "import regex as re\n",
    "import numpy as np\n",
    "from scipy import spatial\n",
    "\n",
    "from sklearn.feature_extraction.text import CountVectorizer \n",
    "\n",
    "import nltk\n",
    "from nltk.sentiment.vader import SentimentIntensityAnalyzer\n",
    "import spacy"
   ]
  },
  {
   "cell_type": "code",
   "execution_count": 14,
   "id": "e534cb90",
   "metadata": {
    "ExecuteTime": {
     "end_time": "2021-10-19T01:24:46.291406Z",
     "start_time": "2021-10-19T01:24:46.129282Z"
    }
   },
   "outputs": [
    {
     "data": {
      "text/html": [
       "<div>\n",
       "<style scoped>\n",
       "    .dataframe tbody tr th:only-of-type {\n",
       "        vertical-align: middle;\n",
       "    }\n",
       "\n",
       "    .dataframe tbody tr th {\n",
       "        vertical-align: top;\n",
       "    }\n",
       "\n",
       "    .dataframe thead th {\n",
       "        text-align: right;\n",
       "    }\n",
       "</style>\n",
       "<table border=\"1\" class=\"dataframe\">\n",
       "  <thead>\n",
       "    <tr style=\"text-align: right;\">\n",
       "      <th></th>\n",
       "      <th>product_name</th>\n",
       "      <th>product_review</th>\n",
       "      <th>user_rating</th>\n",
       "    </tr>\n",
       "  </thead>\n",
       "  <tbody>\n",
       "    <tr>\n",
       "      <th>923</th>\n",
       "      <td>Westly</td>\n",
       "      <td>A delicious beer indeed  Bright orange color p...</td>\n",
       "      <td>4.56</td>\n",
       "    </tr>\n",
       "    <tr>\n",
       "      <th>4929</th>\n",
       "      <td>King Sue   Double Dry Hopped</td>\n",
       "      <td>Hazy neon yellow body  white cap  Smell is hug...</td>\n",
       "      <td>4.23</td>\n",
       "    </tr>\n",
       "    <tr>\n",
       "      <th>3971</th>\n",
       "      <td>The Abyss</td>\n",
       "      <td>12 Oz bottle  Bottled 4 11 2020  Yeah it s les...</td>\n",
       "      <td>4.93</td>\n",
       "    </tr>\n",
       "    <tr>\n",
       "      <th>233</th>\n",
       "      <td>SR 71</td>\n",
       "      <td>This beer takes everything that is lovely abou...</td>\n",
       "      <td>4.88</td>\n",
       "    </tr>\n",
       "    <tr>\n",
       "      <th>2528</th>\n",
       "      <td>The Rusty Nail</td>\n",
       "      <td>2020 vintage Pitch black with a faint head   I...</td>\n",
       "      <td>4.65</td>\n",
       "    </tr>\n",
       "  </tbody>\n",
       "</table>\n",
       "</div>"
      ],
      "text/plain": [
       "                       product_name  \\\n",
       "923                          Westly   \n",
       "4929   King Sue   Double Dry Hopped   \n",
       "3971                      The Abyss   \n",
       "233                           SR 71   \n",
       "2528                 The Rusty Nail   \n",
       "\n",
       "                                         product_review  user_rating  \n",
       "923   A delicious beer indeed  Bright orange color p...         4.56  \n",
       "4929  Hazy neon yellow body  white cap  Smell is hug...         4.23  \n",
       "3971  12 Oz bottle  Bottled 4 11 2020  Yeah it s les...         4.93  \n",
       "233   This beer takes everything that is lovely abou...         4.88  \n",
       "2528  2020 vintage Pitch black with a faint head   I...         4.65  "
      ]
     },
     "execution_count": 14,
     "metadata": {},
     "output_type": "execute_result"
    }
   ],
   "source": [
    "reviews = pd.read_csv('reviews.csv')\n",
    "reviews.sample(5)"
   ]
  },
  {
   "cell_type": "code",
   "execution_count": 15,
   "id": "b1fa2af8",
   "metadata": {
    "ExecuteTime": {
     "end_time": "2021-10-19T01:24:46.447983Z",
     "start_time": "2021-10-19T01:24:46.426465Z"
    }
   },
   "outputs": [],
   "source": [
    "def clean_text(string):\n",
    "    if pd.isna(string):\n",
    "        return \"\"\n",
    "    string = string.lower()\n",
    "    string = string.replace(\"\\n\", \" \").replace(\"\\t\", \" \")\n",
    "    string = text_after = re.sub(r'[^\\w]', ' ', string)\n",
    "    return string"
   ]
  },
  {
   "cell_type": "code",
   "execution_count": 16,
   "id": "b06cef4b",
   "metadata": {
    "ExecuteTime": {
     "end_time": "2021-10-19T01:24:47.771951Z",
     "start_time": "2021-10-19T01:24:46.677820Z"
    }
   },
   "outputs": [],
   "source": [
    "reviews['clean_reviews'] = reviews['product_review'].apply(clean_text)"
   ]
  },
  {
   "cell_type": "code",
   "execution_count": 17,
   "id": "3671a111",
   "metadata": {
    "ExecuteTime": {
     "end_time": "2021-10-19T01:24:53.812453Z",
     "start_time": "2021-10-19T01:24:47.912941Z"
    }
   },
   "outputs": [],
   "source": [
    "corpus = \"\"\n",
    "n = len(reviews)\n",
    "\n",
    "for i in range(n):\n",
    "    corpus = corpus + clean_text(reviews[\"clean_reviews\"].iloc[i])"
   ]
  },
  {
   "cell_type": "code",
   "execution_count": 18,
   "id": "c1dbd114",
   "metadata": {
    "ExecuteTime": {
     "end_time": "2021-10-19T01:24:55.241571Z",
     "start_time": "2021-10-19T01:24:53.937140Z"
    }
   },
   "outputs": [],
   "source": [
    "vectorizer = CountVectorizer(stop_words='english')\n",
    "X = vectorizer.fit_transform([corpus])\n",
    "word_count = pd.Series(X.toarray()[0], index=vectorizer.get_feature_names())\n",
    "ranked_word_count = word_count.sort_values(ascending=False).reset_index()\n",
    "ranked_word_count.to_csv('word_count.csv')"
   ]
  },
  {
   "cell_type": "code",
   "execution_count": 19,
   "id": "4600c18f",
   "metadata": {
    "ExecuteTime": {
     "end_time": "2021-10-19T01:24:55.401066Z",
     "start_time": "2021-10-19T01:24:55.386566Z"
    }
   },
   "outputs": [],
   "source": [
    "features = ['hoppy', 'crisp', 'bitter']"
   ]
  },
  {
   "cell_type": "markdown",
   "id": "bc60a586",
   "metadata": {},
   "source": [
    "# Task C"
   ]
  },
  {
   "cell_type": "code",
   "execution_count": 20,
   "id": "c29a33e1",
   "metadata": {
    "ExecuteTime": {
     "end_time": "2021-10-19T01:24:56.692177Z",
     "start_time": "2021-10-19T01:24:55.534722Z"
    }
   },
   "outputs": [],
   "source": [
    "vectorizer = CountVectorizer(stop_words='english', vocabulary=features)\n",
    "vectors = vectorizer.transform(reviews['clean_reviews']).toarray()"
   ]
  },
  {
   "cell_type": "code",
   "execution_count": 21,
   "id": "8c0b2aef",
   "metadata": {
    "ExecuteTime": {
     "end_time": "2021-10-19T01:24:56.839968Z",
     "start_time": "2021-10-19T01:24:56.828619Z"
    },
    "scrolled": true
   },
   "outputs": [
    {
     "data": {
      "text/plain": [
       "array([[0, 0, 0],\n",
       "       [0, 0, 0],\n",
       "       [0, 0, 0],\n",
       "       ...,\n",
       "       [0, 0, 0],\n",
       "       [0, 0, 0],\n",
       "       [0, 0, 0]], dtype=int64)"
      ]
     },
     "execution_count": 21,
     "metadata": {},
     "output_type": "execute_result"
    }
   ],
   "source": [
    "vectors"
   ]
  },
  {
   "cell_type": "code",
   "execution_count": 22,
   "id": "e0702489",
   "metadata": {
    "ExecuteTime": {
     "end_time": "2021-10-19T01:24:56.996665Z",
     "start_time": "2021-10-19T01:24:56.982537Z"
    },
    "scrolled": true
   },
   "outputs": [
    {
     "data": {
      "text/plain": [
       "6227"
      ]
     },
     "execution_count": 22,
     "metadata": {},
     "output_type": "execute_result"
    }
   ],
   "source": [
    "len(vectors)"
   ]
  },
  {
   "cell_type": "code",
   "execution_count": 23,
   "id": "97d38250",
   "metadata": {
    "ExecuteTime": {
     "end_time": "2021-10-19T01:24:57.173775Z",
     "start_time": "2021-10-19T01:24:57.136530Z"
    }
   },
   "outputs": [],
   "source": [
    "hoppy = []\n",
    "crisp = []\n",
    "bitter = []\n",
    "\n",
    "for i in vectors:\n",
    "    hoppy.append(i[0])\n",
    "    crisp.append(i[1])\n",
    "    bitter.append(i[2]) "
   ]
  },
  {
   "cell_type": "code",
   "execution_count": 24,
   "id": "3de5bdf7",
   "metadata": {
    "ExecuteTime": {
     "end_time": "2021-10-19T01:24:57.344498Z",
     "start_time": "2021-10-19T01:24:57.327507Z"
    }
   },
   "outputs": [],
   "source": [
    "review_change = reviews.copy()"
   ]
  },
  {
   "cell_type": "code",
   "execution_count": 25,
   "id": "9dc26b73",
   "metadata": {
    "ExecuteTime": {
     "end_time": "2021-10-19T01:24:57.588435Z",
     "start_time": "2021-10-19T01:24:57.509561Z"
    },
    "scrolled": false
   },
   "outputs": [
    {
     "data": {
      "text/html": [
       "<div>\n",
       "<style scoped>\n",
       "    .dataframe tbody tr th:only-of-type {\n",
       "        vertical-align: middle;\n",
       "    }\n",
       "\n",
       "    .dataframe tbody tr th {\n",
       "        vertical-align: top;\n",
       "    }\n",
       "\n",
       "    .dataframe thead th {\n",
       "        text-align: right;\n",
       "    }\n",
       "</style>\n",
       "<table border=\"1\" class=\"dataframe\">\n",
       "  <thead>\n",
       "    <tr style=\"text-align: right;\">\n",
       "      <th></th>\n",
       "      <th>product_name</th>\n",
       "      <th>product_review</th>\n",
       "      <th>user_rating</th>\n",
       "      <th>clean_reviews</th>\n",
       "      <th>hoppy</th>\n",
       "      <th>crisp</th>\n",
       "      <th>bitter</th>\n",
       "    </tr>\n",
       "  </thead>\n",
       "  <tbody>\n",
       "    <tr>\n",
       "      <th>0</th>\n",
       "      <td>Kentucky Brunch Brand Stout</td>\n",
       "      <td>2020 vintage acquired during the pandemic  It ...</td>\n",
       "      <td>5.00</td>\n",
       "      <td>2020 vintage acquired during the pandemic  it ...</td>\n",
       "      <td>0</td>\n",
       "      <td>0</td>\n",
       "      <td>0</td>\n",
       "    </tr>\n",
       "    <tr>\n",
       "      <th>1</th>\n",
       "      <td>Kentucky Brunch Brand Stout</td>\n",
       "      <td>Long time waiting to tick this one  and I have...</td>\n",
       "      <td>4.56</td>\n",
       "      <td>long time waiting to tick this one  and i have...</td>\n",
       "      <td>0</td>\n",
       "      <td>0</td>\n",
       "      <td>0</td>\n",
       "    </tr>\n",
       "    <tr>\n",
       "      <th>2</th>\n",
       "      <td>Kentucky Brunch Brand Stout</td>\n",
       "      <td>This review is for the 2019 batch  It was bott...</td>\n",
       "      <td>5.00</td>\n",
       "      <td>this review is for the 2019 batch  it was bott...</td>\n",
       "      <td>0</td>\n",
       "      <td>0</td>\n",
       "      <td>0</td>\n",
       "    </tr>\n",
       "    <tr>\n",
       "      <th>3</th>\n",
       "      <td>Kentucky Brunch Brand Stout</td>\n",
       "      <td>Supreme maple OD  Soooo easy drinking  amp  we...</td>\n",
       "      <td>5.00</td>\n",
       "      <td>supreme maple od  soooo easy drinking  amp  we...</td>\n",
       "      <td>0</td>\n",
       "      <td>0</td>\n",
       "      <td>0</td>\n",
       "    </tr>\n",
       "    <tr>\n",
       "      <th>4</th>\n",
       "      <td>Kentucky Brunch Brand Stout</td>\n",
       "      <td>I have now had 4 different years of KBBS and c...</td>\n",
       "      <td>5.00</td>\n",
       "      <td>i have now had 4 different years of kbbs and c...</td>\n",
       "      <td>0</td>\n",
       "      <td>0</td>\n",
       "      <td>0</td>\n",
       "    </tr>\n",
       "    <tr>\n",
       "      <th>...</th>\n",
       "      <td>...</td>\n",
       "      <td>...</td>\n",
       "      <td>...</td>\n",
       "      <td>...</td>\n",
       "      <td>...</td>\n",
       "      <td>...</td>\n",
       "      <td>...</td>\n",
       "    </tr>\n",
       "    <tr>\n",
       "      <th>6222</th>\n",
       "      <td>Dragonsaddle</td>\n",
       "      <td>For me  I have experienced all of the hoof hea...</td>\n",
       "      <td>4.75</td>\n",
       "      <td>for me  i have experienced all of the hoof hea...</td>\n",
       "      <td>0</td>\n",
       "      <td>0</td>\n",
       "      <td>0</td>\n",
       "    </tr>\n",
       "    <tr>\n",
       "      <th>6223</th>\n",
       "      <td>Dragonsaddle</td>\n",
       "      <td>fresh can drank on 11 5 2016  very hazy golden...</td>\n",
       "      <td>4.50</td>\n",
       "      <td>fresh can drank on 11 5 2016  very hazy golden...</td>\n",
       "      <td>0</td>\n",
       "      <td>0</td>\n",
       "      <td>0</td>\n",
       "    </tr>\n",
       "    <tr>\n",
       "      <th>6224</th>\n",
       "      <td>Dragonsaddle</td>\n",
       "      <td>1 PINT can Served in an oversized stemless win...</td>\n",
       "      <td>4.40</td>\n",
       "      <td>1 pint can served in an oversized stemless win...</td>\n",
       "      <td>0</td>\n",
       "      <td>0</td>\n",
       "      <td>0</td>\n",
       "    </tr>\n",
       "    <tr>\n",
       "      <th>6225</th>\n",
       "      <td>Dragonsaddle</td>\n",
       "      <td>L  Pours a dark gold with a nice head that sta...</td>\n",
       "      <td>4.79</td>\n",
       "      <td>l  pours a dark gold with a nice head that sta...</td>\n",
       "      <td>0</td>\n",
       "      <td>0</td>\n",
       "      <td>0</td>\n",
       "    </tr>\n",
       "    <tr>\n",
       "      <th>6226</th>\n",
       "      <td>Dragonsaddle</td>\n",
       "      <td>First beer I ve given a 5 across the board  be...</td>\n",
       "      <td>5.00</td>\n",
       "      <td>first beer i ve given a 5 across the board  be...</td>\n",
       "      <td>0</td>\n",
       "      <td>0</td>\n",
       "      <td>0</td>\n",
       "    </tr>\n",
       "  </tbody>\n",
       "</table>\n",
       "<p>6227 rows × 7 columns</p>\n",
       "</div>"
      ],
      "text/plain": [
       "                      product_name  \\\n",
       "0      Kentucky Brunch Brand Stout   \n",
       "1      Kentucky Brunch Brand Stout   \n",
       "2      Kentucky Brunch Brand Stout   \n",
       "3      Kentucky Brunch Brand Stout   \n",
       "4      Kentucky Brunch Brand Stout   \n",
       "...                            ...   \n",
       "6222                  Dragonsaddle   \n",
       "6223                  Dragonsaddle   \n",
       "6224                  Dragonsaddle   \n",
       "6225                  Dragonsaddle   \n",
       "6226                  Dragonsaddle   \n",
       "\n",
       "                                         product_review  user_rating  \\\n",
       "0     2020 vintage acquired during the pandemic  It ...         5.00   \n",
       "1     Long time waiting to tick this one  and I have...         4.56   \n",
       "2     This review is for the 2019 batch  It was bott...         5.00   \n",
       "3     Supreme maple OD  Soooo easy drinking  amp  we...         5.00   \n",
       "4     I have now had 4 different years of KBBS and c...         5.00   \n",
       "...                                                 ...          ...   \n",
       "6222  For me  I have experienced all of the hoof hea...         4.75   \n",
       "6223  fresh can drank on 11 5 2016  very hazy golden...         4.50   \n",
       "6224  1 PINT can Served in an oversized stemless win...         4.40   \n",
       "6225  L  Pours a dark gold with a nice head that sta...         4.79   \n",
       "6226  First beer I ve given a 5 across the board  be...         5.00   \n",
       "\n",
       "                                          clean_reviews  hoppy  crisp  bitter  \n",
       "0     2020 vintage acquired during the pandemic  it ...      0      0       0  \n",
       "1     long time waiting to tick this one  and i have...      0      0       0  \n",
       "2     this review is for the 2019 batch  it was bott...      0      0       0  \n",
       "3     supreme maple od  soooo easy drinking  amp  we...      0      0       0  \n",
       "4     i have now had 4 different years of kbbs and c...      0      0       0  \n",
       "...                                                 ...    ...    ...     ...  \n",
       "6222  for me  i have experienced all of the hoof hea...      0      0       0  \n",
       "6223  fresh can drank on 11 5 2016  very hazy golden...      0      0       0  \n",
       "6224  1 pint can served in an oversized stemless win...      0      0       0  \n",
       "6225  l  pours a dark gold with a nice head that sta...      0      0       0  \n",
       "6226  first beer i ve given a 5 across the board  be...      0      0       0  \n",
       "\n",
       "[6227 rows x 7 columns]"
      ]
     },
     "execution_count": 25,
     "metadata": {},
     "output_type": "execute_result"
    }
   ],
   "source": [
    "review_change['hoppy'] = hoppy\n",
    "review_change['crisp'] = crisp\n",
    "review_change['bitter'] = bitter\n",
    "review_change"
   ]
  },
  {
   "cell_type": "code",
   "execution_count": 26,
   "id": "37b7277e",
   "metadata": {
    "ExecuteTime": {
     "end_time": "2021-10-19T01:24:57.778333Z",
     "start_time": "2021-10-19T01:24:57.762208Z"
    },
    "scrolled": true
   },
   "outputs": [
    {
     "data": {
      "text/plain": [
       "'poured from the can into a tulip  huge beer  but pretty easy drinking considering the abv  tropical fruit  minimal bitterness  solid mouthfeel  really solid triple ipa '"
      ]
     },
     "execution_count": 26,
     "metadata": {},
     "output_type": "execute_result"
    }
   ],
   "source": [
    "review_change.iloc[6219]['clean_reviews']"
   ]
  },
  {
   "cell_type": "code",
   "execution_count": 27,
   "id": "8a8e657b",
   "metadata": {
    "ExecuteTime": {
     "end_time": "2021-10-19T01:24:58.505379Z",
     "start_time": "2021-10-19T01:24:57.946170Z"
    }
   },
   "outputs": [
    {
     "name": "stdout",
     "output_type": "stream",
     "text": [
      "[0, 0, 0, 0, 0.5773502691896257, 0, 0, 0, 0, 0]\n"
     ]
    }
   ],
   "source": [
    "feature_array = np.array([1, 1, 1])\n",
    "cosine_scores = []\n",
    "\n",
    "for array in vectors:\n",
    "    if array.sum() == 0:\n",
    "        cosine_scores = cosine_scores + [0]\n",
    "    else:\n",
    "        cosine_scores = cosine_scores + [1 - spatial.distance.cosine(array, feature_array)]\n",
    "print(cosine_scores[-10:])"
   ]
  },
  {
   "cell_type": "code",
   "execution_count": 28,
   "id": "43d27925",
   "metadata": {
    "ExecuteTime": {
     "end_time": "2021-10-19T01:24:58.696520Z",
     "start_time": "2021-10-19T01:24:58.684360Z"
    }
   },
   "outputs": [],
   "source": [
    "reviews['cosine_score'] = cosine_scores"
   ]
  },
  {
   "cell_type": "markdown",
   "id": "d3179238",
   "metadata": {},
   "source": [
    "# Task D"
   ]
  },
  {
   "cell_type": "code",
   "execution_count": 29,
   "id": "08295da4",
   "metadata": {
    "ExecuteTime": {
     "end_time": "2021-10-19T01:24:58.985030Z",
     "start_time": "2021-10-19T01:24:58.910271Z"
    },
    "scrolled": true
   },
   "outputs": [],
   "source": [
    "analyzer = SentimentIntensityAnalyzer()"
   ]
  },
  {
   "cell_type": "code",
   "execution_count": 30,
   "id": "64ad8fdf",
   "metadata": {
    "ExecuteTime": {
     "end_time": "2021-10-19T01:25:21.643991Z",
     "start_time": "2021-10-19T01:24:59.169755Z"
    }
   },
   "outputs": [],
   "source": [
    "reviews['senti_score'] = reviews['clean_reviews'].apply(lambda s: analyzer.polarity_scores(s)['compound'])"
   ]
  },
  {
   "cell_type": "code",
   "execution_count": 31,
   "id": "3af3974c",
   "metadata": {
    "ExecuteTime": {
     "end_time": "2021-10-19T01:25:21.879374Z",
     "start_time": "2021-10-19T01:25:21.837460Z"
    }
   },
   "outputs": [
    {
     "data": {
      "text/html": [
       "<div>\n",
       "<style scoped>\n",
       "    .dataframe tbody tr th:only-of-type {\n",
       "        vertical-align: middle;\n",
       "    }\n",
       "\n",
       "    .dataframe tbody tr th {\n",
       "        vertical-align: top;\n",
       "    }\n",
       "\n",
       "    .dataframe thead th {\n",
       "        text-align: right;\n",
       "    }\n",
       "</style>\n",
       "<table border=\"1\" class=\"dataframe\">\n",
       "  <thead>\n",
       "    <tr style=\"text-align: right;\">\n",
       "      <th></th>\n",
       "      <th>product_name</th>\n",
       "      <th>product_review</th>\n",
       "      <th>user_rating</th>\n",
       "      <th>clean_reviews</th>\n",
       "      <th>cosine_score</th>\n",
       "      <th>senti_score</th>\n",
       "    </tr>\n",
       "  </thead>\n",
       "  <tbody>\n",
       "    <tr>\n",
       "      <th>0</th>\n",
       "      <td>Kentucky Brunch Brand Stout</td>\n",
       "      <td>2020 vintage acquired during the pandemic  It ...</td>\n",
       "      <td>5.00</td>\n",
       "      <td>2020 vintage acquired during the pandemic  it ...</td>\n",
       "      <td>0.0</td>\n",
       "      <td>0.5574</td>\n",
       "    </tr>\n",
       "    <tr>\n",
       "      <th>1</th>\n",
       "      <td>Kentucky Brunch Brand Stout</td>\n",
       "      <td>Long time waiting to tick this one  and I have...</td>\n",
       "      <td>4.56</td>\n",
       "      <td>long time waiting to tick this one  and i have...</td>\n",
       "      <td>0.0</td>\n",
       "      <td>0.1159</td>\n",
       "    </tr>\n",
       "    <tr>\n",
       "      <th>2</th>\n",
       "      <td>Kentucky Brunch Brand Stout</td>\n",
       "      <td>This review is for the 2019 batch  It was bott...</td>\n",
       "      <td>5.00</td>\n",
       "      <td>this review is for the 2019 batch  it was bott...</td>\n",
       "      <td>0.0</td>\n",
       "      <td>0.8316</td>\n",
       "    </tr>\n",
       "    <tr>\n",
       "      <th>3</th>\n",
       "      <td>Kentucky Brunch Brand Stout</td>\n",
       "      <td>Supreme maple OD  Soooo easy drinking  amp  we...</td>\n",
       "      <td>5.00</td>\n",
       "      <td>supreme maple od  soooo easy drinking  amp  we...</td>\n",
       "      <td>0.0</td>\n",
       "      <td>0.9153</td>\n",
       "    </tr>\n",
       "    <tr>\n",
       "      <th>4</th>\n",
       "      <td>Kentucky Brunch Brand Stout</td>\n",
       "      <td>I have now had 4 different years of KBBS and c...</td>\n",
       "      <td>5.00</td>\n",
       "      <td>i have now had 4 different years of kbbs and c...</td>\n",
       "      <td>0.0</td>\n",
       "      <td>0.9022</td>\n",
       "    </tr>\n",
       "  </tbody>\n",
       "</table>\n",
       "</div>"
      ],
      "text/plain": [
       "                   product_name  \\\n",
       "0   Kentucky Brunch Brand Stout   \n",
       "1   Kentucky Brunch Brand Stout   \n",
       "2   Kentucky Brunch Brand Stout   \n",
       "3   Kentucky Brunch Brand Stout   \n",
       "4   Kentucky Brunch Brand Stout   \n",
       "\n",
       "                                      product_review  user_rating  \\\n",
       "0  2020 vintage acquired during the pandemic  It ...         5.00   \n",
       "1  Long time waiting to tick this one  and I have...         4.56   \n",
       "2  This review is for the 2019 batch  It was bott...         5.00   \n",
       "3  Supreme maple OD  Soooo easy drinking  amp  we...         5.00   \n",
       "4  I have now had 4 different years of KBBS and c...         5.00   \n",
       "\n",
       "                                       clean_reviews  cosine_score  \\\n",
       "0  2020 vintage acquired during the pandemic  it ...           0.0   \n",
       "1  long time waiting to tick this one  and i have...           0.0   \n",
       "2  this review is for the 2019 batch  it was bott...           0.0   \n",
       "3  supreme maple od  soooo easy drinking  amp  we...           0.0   \n",
       "4  i have now had 4 different years of kbbs and c...           0.0   \n",
       "\n",
       "   senti_score  \n",
       "0       0.5574  \n",
       "1       0.1159  \n",
       "2       0.8316  \n",
       "3       0.9153  \n",
       "4       0.9022  "
      ]
     },
     "execution_count": 31,
     "metadata": {},
     "output_type": "execute_result"
    }
   ],
   "source": [
    "reviews.head()"
   ]
  },
  {
   "cell_type": "markdown",
   "id": "3af4948d",
   "metadata": {},
   "source": [
    "# Task E"
   ]
  },
  {
   "cell_type": "code",
   "execution_count": 32,
   "id": "2aba6ed9",
   "metadata": {
    "ExecuteTime": {
     "end_time": "2021-10-19T01:25:22.136021Z",
     "start_time": "2021-10-19T01:25:22.049581Z"
    }
   },
   "outputs": [
    {
     "data": {
      "text/html": [
       "<div>\n",
       "<style scoped>\n",
       "    .dataframe tbody tr th:only-of-type {\n",
       "        vertical-align: middle;\n",
       "    }\n",
       "\n",
       "    .dataframe tbody tr th {\n",
       "        vertical-align: top;\n",
       "    }\n",
       "\n",
       "    .dataframe thead th {\n",
       "        text-align: right;\n",
       "    }\n",
       "</style>\n",
       "<table border=\"1\" class=\"dataframe\">\n",
       "  <thead>\n",
       "    <tr style=\"text-align: right;\">\n",
       "      <th></th>\n",
       "      <th>cosine_score</th>\n",
       "      <th>senti_score</th>\n",
       "      <th>eval_score</th>\n",
       "    </tr>\n",
       "    <tr>\n",
       "      <th>product_name</th>\n",
       "      <th></th>\n",
       "      <th></th>\n",
       "      <th></th>\n",
       "    </tr>\n",
       "  </thead>\n",
       "  <tbody>\n",
       "    <tr>\n",
       "      <th>ucaba</th>\n",
       "      <td>0.046188</td>\n",
       "      <td>0.786188</td>\n",
       "      <td>0.832376</td>\n",
       "    </tr>\n",
       "    <tr>\n",
       "      <th>A Deal With The Devil</th>\n",
       "      <td>0.023094</td>\n",
       "      <td>0.775296</td>\n",
       "      <td>0.798390</td>\n",
       "    </tr>\n",
       "    <tr>\n",
       "      <th>A Deal With The Devil   Double Oak Aged</th>\n",
       "      <td>0.000000</td>\n",
       "      <td>0.842444</td>\n",
       "      <td>0.842444</td>\n",
       "    </tr>\n",
       "    <tr>\n",
       "      <th>Aaron</th>\n",
       "      <td>0.046188</td>\n",
       "      <td>0.825540</td>\n",
       "      <td>0.871728</td>\n",
       "    </tr>\n",
       "    <tr>\n",
       "      <th>Abner</th>\n",
       "      <td>0.217412</td>\n",
       "      <td>0.835944</td>\n",
       "      <td>1.053356</td>\n",
       "    </tr>\n",
       "    <tr>\n",
       "      <th>...</th>\n",
       "      <td>...</td>\n",
       "      <td>...</td>\n",
       "      <td>...</td>\n",
       "    </tr>\n",
       "    <tr>\n",
       "      <th>West Ashley</th>\n",
       "      <td>0.023094</td>\n",
       "      <td>0.832844</td>\n",
       "      <td>0.855938</td>\n",
       "    </tr>\n",
       "    <tr>\n",
       "      <th>Westly</th>\n",
       "      <td>0.046188</td>\n",
       "      <td>0.758864</td>\n",
       "      <td>0.805052</td>\n",
       "    </tr>\n",
       "    <tr>\n",
       "      <th>Wide Awake It s Morning</th>\n",
       "      <td>0.069282</td>\n",
       "      <td>0.635148</td>\n",
       "      <td>0.704430</td>\n",
       "    </tr>\n",
       "    <tr>\n",
       "      <th>Zenne Y Frontera</th>\n",
       "      <td>0.046188</td>\n",
       "      <td>0.883792</td>\n",
       "      <td>0.929980</td>\n",
       "    </tr>\n",
       "    <tr>\n",
       "      <th>Zombie Dust</th>\n",
       "      <td>0.333972</td>\n",
       "      <td>0.765796</td>\n",
       "      <td>1.099768</td>\n",
       "    </tr>\n",
       "  </tbody>\n",
       "</table>\n",
       "<p>250 rows × 3 columns</p>\n",
       "</div>"
      ],
      "text/plain": [
       "                                          cosine_score  senti_score  \\\n",
       "product_name                                                          \n",
       "  ucaba                                       0.046188     0.786188   \n",
       " A Deal With The Devil                        0.023094     0.775296   \n",
       " A Deal With The Devil   Double Oak Aged      0.000000     0.842444   \n",
       " Aaron                                        0.046188     0.825540   \n",
       " Abner                                        0.217412     0.835944   \n",
       "...                                                ...          ...   \n",
       " West Ashley                                  0.023094     0.832844   \n",
       " Westly                                       0.046188     0.758864   \n",
       " Wide Awake It s Morning                      0.069282     0.635148   \n",
       " Zenne Y Frontera                             0.046188     0.883792   \n",
       " Zombie Dust                                  0.333972     0.765796   \n",
       "\n",
       "                                          eval_score  \n",
       "product_name                                          \n",
       "  ucaba                                     0.832376  \n",
       " A Deal With The Devil                      0.798390  \n",
       " A Deal With The Devil   Double Oak Aged    0.842444  \n",
       " Aaron                                      0.871728  \n",
       " Abner                                      1.053356  \n",
       "...                                              ...  \n",
       " West Ashley                                0.855938  \n",
       " Westly                                     0.805052  \n",
       " Wide Awake It s Morning                    0.704430  \n",
       " Zenne Y Frontera                           0.929980  \n",
       " Zombie Dust                                1.099768  \n",
       "\n",
       "[250 rows x 3 columns]"
      ]
     },
     "execution_count": 32,
     "metadata": {},
     "output_type": "execute_result"
    }
   ],
   "source": [
    "beer_rating = pd.pivot_table(data = reviews, index='product_name', \n",
    "                             values = ['cosine_score', 'senti_score'],\n",
    "                             aggfunc='mean')\n",
    "beer_rating['eval_score'] = beer_rating['senti_score'] + beer_rating['cosine_score']\n",
    "beer_rating"
   ]
  },
  {
   "cell_type": "code",
   "execution_count": 33,
   "id": "74430d39",
   "metadata": {
    "ExecuteTime": {
     "end_time": "2021-10-19T01:25:22.375204Z",
     "start_time": "2021-10-19T01:25:22.341148Z"
    }
   },
   "outputs": [
    {
     "data": {
      "text/html": [
       "<div>\n",
       "<style scoped>\n",
       "    .dataframe tbody tr th:only-of-type {\n",
       "        vertical-align: middle;\n",
       "    }\n",
       "\n",
       "    .dataframe tbody tr th {\n",
       "        vertical-align: top;\n",
       "    }\n",
       "\n",
       "    .dataframe thead th {\n",
       "        text-align: right;\n",
       "    }\n",
       "</style>\n",
       "<table border=\"1\" class=\"dataframe\">\n",
       "  <thead>\n",
       "    <tr style=\"text-align: right;\">\n",
       "      <th></th>\n",
       "      <th>cosine_score</th>\n",
       "      <th>senti_score</th>\n",
       "      <th>eval_score</th>\n",
       "    </tr>\n",
       "    <tr>\n",
       "      <th>product_name</th>\n",
       "      <th></th>\n",
       "      <th></th>\n",
       "      <th></th>\n",
       "    </tr>\n",
       "  </thead>\n",
       "  <tbody>\n",
       "    <tr>\n",
       "      <th>Second Fiddle</th>\n",
       "      <td>0.421296</td>\n",
       "      <td>0.760596</td>\n",
       "      <td>1.181892</td>\n",
       "    </tr>\n",
       "    <tr>\n",
       "      <th>Emerald Grouper</th>\n",
       "      <td>0.279380</td>\n",
       "      <td>0.848120</td>\n",
       "      <td>1.127500</td>\n",
       "    </tr>\n",
       "    <tr>\n",
       "      <th>Dinner</th>\n",
       "      <td>0.280506</td>\n",
       "      <td>0.834944</td>\n",
       "      <td>1.115450</td>\n",
       "    </tr>\n",
       "  </tbody>\n",
       "</table>\n",
       "</div>"
      ],
      "text/plain": [
       "                  cosine_score  senti_score  eval_score\n",
       "product_name                                           \n",
       " Second Fiddle        0.421296     0.760596    1.181892\n",
       " Emerald Grouper      0.279380     0.848120    1.127500\n",
       " Dinner               0.280506     0.834944    1.115450"
      ]
     },
     "execution_count": 33,
     "metadata": {},
     "output_type": "execute_result"
    }
   ],
   "source": [
    "beer_rating.sort_values(by = ['eval_score'], ascending= False)[:3]"
   ]
  },
  {
   "cell_type": "code",
   "execution_count": 34,
   "id": "03aca599",
   "metadata": {
    "ExecuteTime": {
     "end_time": "2021-10-19T01:25:28.922043Z",
     "start_time": "2021-10-19T01:25:22.563745Z"
    }
   },
   "outputs": [],
   "source": [
    "nlp = spacy.load('en_core_web_lg')"
   ]
  },
  {
   "cell_type": "code",
   "execution_count": 35,
   "id": "098c24a3",
   "metadata": {
    "ExecuteTime": {
     "end_time": "2021-10-19T01:25:29.120922Z",
     "start_time": "2021-10-19T01:25:29.103897Z"
    }
   },
   "outputs": [],
   "source": [
    "def attribute_similarity(s):\n",
    "    similarity_score = []\n",
    "    if len(s) == 0:\n",
    "        return 0\n",
    "    for f in features:\n",
    "        text1 = f\n",
    "        text2 = s\n",
    "        doc1 = nlp(text1)\n",
    "        doc2 = nlp(text2)\n",
    "        similarity_score = similarity_score + [doc1.similarity(doc2)]\n",
    "    return np.array(similarity_score).mean()"
   ]
  },
  {
   "cell_type": "code",
   "execution_count": 36,
   "id": "caabe4b6",
   "metadata": {
    "ExecuteTime": {
     "end_time": "2021-10-19T01:41:51.100651Z",
     "start_time": "2021-10-19T01:25:29.324666Z"
    }
   },
   "outputs": [
    {
     "data": {
      "text/html": [
       "<div>\n",
       "<style scoped>\n",
       "    .dataframe tbody tr th:only-of-type {\n",
       "        vertical-align: middle;\n",
       "    }\n",
       "\n",
       "    .dataframe tbody tr th {\n",
       "        vertical-align: top;\n",
       "    }\n",
       "\n",
       "    .dataframe thead th {\n",
       "        text-align: right;\n",
       "    }\n",
       "</style>\n",
       "<table border=\"1\" class=\"dataframe\">\n",
       "  <thead>\n",
       "    <tr style=\"text-align: right;\">\n",
       "      <th></th>\n",
       "      <th>product_name</th>\n",
       "      <th>product_review</th>\n",
       "      <th>user_rating</th>\n",
       "      <th>clean_reviews</th>\n",
       "      <th>cosine_score</th>\n",
       "      <th>senti_score</th>\n",
       "      <th>word_similarity</th>\n",
       "    </tr>\n",
       "  </thead>\n",
       "  <tbody>\n",
       "    <tr>\n",
       "      <th>0</th>\n",
       "      <td>Kentucky Brunch Brand Stout</td>\n",
       "      <td>2020 vintage acquired during the pandemic  It ...</td>\n",
       "      <td>5.00</td>\n",
       "      <td>2020 vintage acquired during the pandemic  it ...</td>\n",
       "      <td>0.0</td>\n",
       "      <td>0.5574</td>\n",
       "      <td>0.305312</td>\n",
       "    </tr>\n",
       "    <tr>\n",
       "      <th>1</th>\n",
       "      <td>Kentucky Brunch Brand Stout</td>\n",
       "      <td>Long time waiting to tick this one  and I have...</td>\n",
       "      <td>4.56</td>\n",
       "      <td>long time waiting to tick this one  and i have...</td>\n",
       "      <td>0.0</td>\n",
       "      <td>0.1159</td>\n",
       "      <td>0.366800</td>\n",
       "    </tr>\n",
       "    <tr>\n",
       "      <th>2</th>\n",
       "      <td>Kentucky Brunch Brand Stout</td>\n",
       "      <td>This review is for the 2019 batch  It was bott...</td>\n",
       "      <td>5.00</td>\n",
       "      <td>this review is for the 2019 batch  it was bott...</td>\n",
       "      <td>0.0</td>\n",
       "      <td>0.8316</td>\n",
       "      <td>0.352708</td>\n",
       "    </tr>\n",
       "    <tr>\n",
       "      <th>3</th>\n",
       "      <td>Kentucky Brunch Brand Stout</td>\n",
       "      <td>Supreme maple OD  Soooo easy drinking  amp  we...</td>\n",
       "      <td>5.00</td>\n",
       "      <td>supreme maple od  soooo easy drinking  amp  we...</td>\n",
       "      <td>0.0</td>\n",
       "      <td>0.9153</td>\n",
       "      <td>0.285829</td>\n",
       "    </tr>\n",
       "    <tr>\n",
       "      <th>4</th>\n",
       "      <td>Kentucky Brunch Brand Stout</td>\n",
       "      <td>I have now had 4 different years of KBBS and c...</td>\n",
       "      <td>5.00</td>\n",
       "      <td>i have now had 4 different years of kbbs and c...</td>\n",
       "      <td>0.0</td>\n",
       "      <td>0.9022</td>\n",
       "      <td>0.324963</td>\n",
       "    </tr>\n",
       "    <tr>\n",
       "      <th>...</th>\n",
       "      <td>...</td>\n",
       "      <td>...</td>\n",
       "      <td>...</td>\n",
       "      <td>...</td>\n",
       "      <td>...</td>\n",
       "      <td>...</td>\n",
       "      <td>...</td>\n",
       "    </tr>\n",
       "    <tr>\n",
       "      <th>6222</th>\n",
       "      <td>Dragonsaddle</td>\n",
       "      <td>For me  I have experienced all of the hoof hea...</td>\n",
       "      <td>4.75</td>\n",
       "      <td>for me  i have experienced all of the hoof hea...</td>\n",
       "      <td>0.0</td>\n",
       "      <td>0.9870</td>\n",
       "      <td>0.310978</td>\n",
       "    </tr>\n",
       "    <tr>\n",
       "      <th>6223</th>\n",
       "      <td>Dragonsaddle</td>\n",
       "      <td>fresh can drank on 11 5 2016  very hazy golden...</td>\n",
       "      <td>4.50</td>\n",
       "      <td>fresh can drank on 11 5 2016  very hazy golden...</td>\n",
       "      <td>0.0</td>\n",
       "      <td>0.7986</td>\n",
       "      <td>0.406110</td>\n",
       "    </tr>\n",
       "    <tr>\n",
       "      <th>6224</th>\n",
       "      <td>Dragonsaddle</td>\n",
       "      <td>1 PINT can Served in an oversized stemless win...</td>\n",
       "      <td>4.40</td>\n",
       "      <td>1 pint can served in an oversized stemless win...</td>\n",
       "      <td>0.0</td>\n",
       "      <td>0.8586</td>\n",
       "      <td>0.439072</td>\n",
       "    </tr>\n",
       "    <tr>\n",
       "      <th>6225</th>\n",
       "      <td>Dragonsaddle</td>\n",
       "      <td>L  Pours a dark gold with a nice head that sta...</td>\n",
       "      <td>4.79</td>\n",
       "      <td>l  pours a dark gold with a nice head that sta...</td>\n",
       "      <td>0.0</td>\n",
       "      <td>0.9806</td>\n",
       "      <td>0.406174</td>\n",
       "    </tr>\n",
       "    <tr>\n",
       "      <th>6226</th>\n",
       "      <td>Dragonsaddle</td>\n",
       "      <td>First beer I ve given a 5 across the board  be...</td>\n",
       "      <td>5.00</td>\n",
       "      <td>first beer i ve given a 5 across the board  be...</td>\n",
       "      <td>0.0</td>\n",
       "      <td>0.8541</td>\n",
       "      <td>0.380385</td>\n",
       "    </tr>\n",
       "  </tbody>\n",
       "</table>\n",
       "<p>6227 rows × 7 columns</p>\n",
       "</div>"
      ],
      "text/plain": [
       "                      product_name  \\\n",
       "0      Kentucky Brunch Brand Stout   \n",
       "1      Kentucky Brunch Brand Stout   \n",
       "2      Kentucky Brunch Brand Stout   \n",
       "3      Kentucky Brunch Brand Stout   \n",
       "4      Kentucky Brunch Brand Stout   \n",
       "...                            ...   \n",
       "6222                  Dragonsaddle   \n",
       "6223                  Dragonsaddle   \n",
       "6224                  Dragonsaddle   \n",
       "6225                  Dragonsaddle   \n",
       "6226                  Dragonsaddle   \n",
       "\n",
       "                                         product_review  user_rating  \\\n",
       "0     2020 vintage acquired during the pandemic  It ...         5.00   \n",
       "1     Long time waiting to tick this one  and I have...         4.56   \n",
       "2     This review is for the 2019 batch  It was bott...         5.00   \n",
       "3     Supreme maple OD  Soooo easy drinking  amp  we...         5.00   \n",
       "4     I have now had 4 different years of KBBS and c...         5.00   \n",
       "...                                                 ...          ...   \n",
       "6222  For me  I have experienced all of the hoof hea...         4.75   \n",
       "6223  fresh can drank on 11 5 2016  very hazy golden...         4.50   \n",
       "6224  1 PINT can Served in an oversized stemless win...         4.40   \n",
       "6225  L  Pours a dark gold with a nice head that sta...         4.79   \n",
       "6226  First beer I ve given a 5 across the board  be...         5.00   \n",
       "\n",
       "                                          clean_reviews  cosine_score  \\\n",
       "0     2020 vintage acquired during the pandemic  it ...           0.0   \n",
       "1     long time waiting to tick this one  and i have...           0.0   \n",
       "2     this review is for the 2019 batch  it was bott...           0.0   \n",
       "3     supreme maple od  soooo easy drinking  amp  we...           0.0   \n",
       "4     i have now had 4 different years of kbbs and c...           0.0   \n",
       "...                                                 ...           ...   \n",
       "6222  for me  i have experienced all of the hoof hea...           0.0   \n",
       "6223  fresh can drank on 11 5 2016  very hazy golden...           0.0   \n",
       "6224  1 pint can served in an oversized stemless win...           0.0   \n",
       "6225  l  pours a dark gold with a nice head that sta...           0.0   \n",
       "6226  first beer i ve given a 5 across the board  be...           0.0   \n",
       "\n",
       "      senti_score  word_similarity  \n",
       "0          0.5574         0.305312  \n",
       "1          0.1159         0.366800  \n",
       "2          0.8316         0.352708  \n",
       "3          0.9153         0.285829  \n",
       "4          0.9022         0.324963  \n",
       "...           ...              ...  \n",
       "6222       0.9870         0.310978  \n",
       "6223       0.7986         0.406110  \n",
       "6224       0.8586         0.439072  \n",
       "6225       0.9806         0.406174  \n",
       "6226       0.8541         0.380385  \n",
       "\n",
       "[6227 rows x 7 columns]"
      ]
     },
     "execution_count": 36,
     "metadata": {},
     "output_type": "execute_result"
    }
   ],
   "source": [
    "reviews['word_similarity'] = reviews['clean_reviews'].apply(attribute_similarity)\n",
    "reviews"
   ]
  },
  {
   "cell_type": "code",
   "execution_count": 37,
   "id": "e9f6976d",
   "metadata": {
    "ExecuteTime": {
     "end_time": "2021-10-19T01:41:51.179659Z",
     "start_time": "2021-10-19T01:41:51.160767Z"
    }
   },
   "outputs": [
    {
     "data": {
      "text/html": [
       "<div>\n",
       "<style scoped>\n",
       "    .dataframe tbody tr th:only-of-type {\n",
       "        vertical-align: middle;\n",
       "    }\n",
       "\n",
       "    .dataframe tbody tr th {\n",
       "        vertical-align: top;\n",
       "    }\n",
       "\n",
       "    .dataframe thead th {\n",
       "        text-align: right;\n",
       "    }\n",
       "</style>\n",
       "<table border=\"1\" class=\"dataframe\">\n",
       "  <thead>\n",
       "    <tr style=\"text-align: right;\">\n",
       "      <th></th>\n",
       "      <th>cosine_score</th>\n",
       "      <th>senti_score</th>\n",
       "      <th>word_similarity</th>\n",
       "      <th>eval_score_old</th>\n",
       "      <th>eval_score_new</th>\n",
       "    </tr>\n",
       "    <tr>\n",
       "      <th>product_name</th>\n",
       "      <th></th>\n",
       "      <th></th>\n",
       "      <th></th>\n",
       "      <th></th>\n",
       "      <th></th>\n",
       "    </tr>\n",
       "  </thead>\n",
       "  <tbody>\n",
       "    <tr>\n",
       "      <th>ucaba</th>\n",
       "      <td>0.046188</td>\n",
       "      <td>0.786188</td>\n",
       "      <td>0.453397</td>\n",
       "      <td>0.832376</td>\n",
       "      <td>1.239585</td>\n",
       "    </tr>\n",
       "    <tr>\n",
       "      <th>A Deal With The Devil</th>\n",
       "      <td>0.023094</td>\n",
       "      <td>0.775296</td>\n",
       "      <td>0.451155</td>\n",
       "      <td>0.798390</td>\n",
       "      <td>1.226451</td>\n",
       "    </tr>\n",
       "    <tr>\n",
       "      <th>A Deal With The Devil   Double Oak Aged</th>\n",
       "      <td>0.000000</td>\n",
       "      <td>0.842444</td>\n",
       "      <td>0.440207</td>\n",
       "      <td>0.842444</td>\n",
       "      <td>1.282651</td>\n",
       "    </tr>\n",
       "    <tr>\n",
       "      <th>Aaron</th>\n",
       "      <td>0.046188</td>\n",
       "      <td>0.825540</td>\n",
       "      <td>0.456051</td>\n",
       "      <td>0.871728</td>\n",
       "      <td>1.281591</td>\n",
       "    </tr>\n",
       "    <tr>\n",
       "      <th>Abner</th>\n",
       "      <td>0.217412</td>\n",
       "      <td>0.835944</td>\n",
       "      <td>0.443012</td>\n",
       "      <td>1.053356</td>\n",
       "      <td>1.278956</td>\n",
       "    </tr>\n",
       "    <tr>\n",
       "      <th>...</th>\n",
       "      <td>...</td>\n",
       "      <td>...</td>\n",
       "      <td>...</td>\n",
       "      <td>...</td>\n",
       "      <td>...</td>\n",
       "    </tr>\n",
       "    <tr>\n",
       "      <th>West Ashley</th>\n",
       "      <td>0.023094</td>\n",
       "      <td>0.832844</td>\n",
       "      <td>0.487456</td>\n",
       "      <td>0.855938</td>\n",
       "      <td>1.320300</td>\n",
       "    </tr>\n",
       "    <tr>\n",
       "      <th>Westly</th>\n",
       "      <td>0.046188</td>\n",
       "      <td>0.758864</td>\n",
       "      <td>0.442396</td>\n",
       "      <td>0.805052</td>\n",
       "      <td>1.201260</td>\n",
       "    </tr>\n",
       "    <tr>\n",
       "      <th>Wide Awake It s Morning</th>\n",
       "      <td>0.069282</td>\n",
       "      <td>0.635148</td>\n",
       "      <td>0.452768</td>\n",
       "      <td>0.704430</td>\n",
       "      <td>1.087916</td>\n",
       "    </tr>\n",
       "    <tr>\n",
       "      <th>Zenne Y Frontera</th>\n",
       "      <td>0.046188</td>\n",
       "      <td>0.883792</td>\n",
       "      <td>0.468056</td>\n",
       "      <td>0.929980</td>\n",
       "      <td>1.351848</td>\n",
       "    </tr>\n",
       "    <tr>\n",
       "      <th>Zombie Dust</th>\n",
       "      <td>0.333972</td>\n",
       "      <td>0.765796</td>\n",
       "      <td>0.466377</td>\n",
       "      <td>1.099768</td>\n",
       "      <td>1.232173</td>\n",
       "    </tr>\n",
       "  </tbody>\n",
       "</table>\n",
       "<p>250 rows × 5 columns</p>\n",
       "</div>"
      ],
      "text/plain": [
       "                                          cosine_score  senti_score  \\\n",
       "product_name                                                          \n",
       "  ucaba                                       0.046188     0.786188   \n",
       " A Deal With The Devil                        0.023094     0.775296   \n",
       " A Deal With The Devil   Double Oak Aged      0.000000     0.842444   \n",
       " Aaron                                        0.046188     0.825540   \n",
       " Abner                                        0.217412     0.835944   \n",
       "...                                                ...          ...   \n",
       " West Ashley                                  0.023094     0.832844   \n",
       " Westly                                       0.046188     0.758864   \n",
       " Wide Awake It s Morning                      0.069282     0.635148   \n",
       " Zenne Y Frontera                             0.046188     0.883792   \n",
       " Zombie Dust                                  0.333972     0.765796   \n",
       "\n",
       "                                          word_similarity  eval_score_old  \\\n",
       "product_name                                                                \n",
       "  ucaba                                          0.453397        0.832376   \n",
       " A Deal With The Devil                           0.451155        0.798390   \n",
       " A Deal With The Devil   Double Oak Aged         0.440207        0.842444   \n",
       " Aaron                                           0.456051        0.871728   \n",
       " Abner                                           0.443012        1.053356   \n",
       "...                                                   ...             ...   \n",
       " West Ashley                                     0.487456        0.855938   \n",
       " Westly                                          0.442396        0.805052   \n",
       " Wide Awake It s Morning                         0.452768        0.704430   \n",
       " Zenne Y Frontera                                0.468056        0.929980   \n",
       " Zombie Dust                                     0.466377        1.099768   \n",
       "\n",
       "                                          eval_score_new  \n",
       "product_name                                              \n",
       "  ucaba                                         1.239585  \n",
       " A Deal With The Devil                          1.226451  \n",
       " A Deal With The Devil   Double Oak Aged        1.282651  \n",
       " Aaron                                          1.281591  \n",
       " Abner                                          1.278956  \n",
       "...                                                  ...  \n",
       " West Ashley                                    1.320300  \n",
       " Westly                                         1.201260  \n",
       " Wide Awake It s Morning                        1.087916  \n",
       " Zenne Y Frontera                               1.351848  \n",
       " Zombie Dust                                    1.232173  \n",
       "\n",
       "[250 rows x 5 columns]"
      ]
     },
     "execution_count": 37,
     "metadata": {},
     "output_type": "execute_result"
    }
   ],
   "source": [
    "beer_rating = pd.pivot_table(data = reviews, index='product_name', \n",
    "                             values = ['cosine_score', 'senti_score', 'word_similarity'],\n",
    "                             aggfunc='mean')\n",
    "beer_rating['eval_score_old'] = beer_rating['senti_score'] + beer_rating['cosine_score']\n",
    "beer_rating['eval_score_new'] = beer_rating['senti_score'] + beer_rating['word_similarity']\n",
    "beer_rating"
   ]
  },
  {
   "cell_type": "code",
   "execution_count": 38,
   "id": "e50bb439",
   "metadata": {
    "ExecuteTime": {
     "end_time": "2021-10-19T01:41:51.258634Z",
     "start_time": "2021-10-19T01:41:51.242997Z"
    }
   },
   "outputs": [
    {
     "data": {
      "text/html": [
       "<div>\n",
       "<style scoped>\n",
       "    .dataframe tbody tr th:only-of-type {\n",
       "        vertical-align: middle;\n",
       "    }\n",
       "\n",
       "    .dataframe tbody tr th {\n",
       "        vertical-align: top;\n",
       "    }\n",
       "\n",
       "    .dataframe thead th {\n",
       "        text-align: right;\n",
       "    }\n",
       "</style>\n",
       "<table border=\"1\" class=\"dataframe\">\n",
       "  <thead>\n",
       "    <tr style=\"text-align: right;\">\n",
       "      <th></th>\n",
       "      <th>cosine_score</th>\n",
       "      <th>senti_score</th>\n",
       "      <th>word_similarity</th>\n",
       "      <th>eval_score_old</th>\n",
       "      <th>eval_score_new</th>\n",
       "    </tr>\n",
       "    <tr>\n",
       "      <th>product_name</th>\n",
       "      <th></th>\n",
       "      <th></th>\n",
       "      <th></th>\n",
       "      <th></th>\n",
       "      <th></th>\n",
       "    </tr>\n",
       "  </thead>\n",
       "  <tbody>\n",
       "    <tr>\n",
       "      <th>Cable Car Kriek</th>\n",
       "      <td>0.115470</td>\n",
       "      <td>0.931804</td>\n",
       "      <td>0.442121</td>\n",
       "      <td>1.047274</td>\n",
       "      <td>1.373925</td>\n",
       "    </tr>\n",
       "    <tr>\n",
       "      <th>Genealogy Of Morals   Bourbon Barrel Aged</th>\n",
       "      <td>0.055754</td>\n",
       "      <td>0.915800</td>\n",
       "      <td>0.445813</td>\n",
       "      <td>0.971554</td>\n",
       "      <td>1.361613</td>\n",
       "    </tr>\n",
       "    <tr>\n",
       "      <th>Flora Plum</th>\n",
       "      <td>0.115470</td>\n",
       "      <td>0.892916</td>\n",
       "      <td>0.459384</td>\n",
       "      <td>1.008386</td>\n",
       "      <td>1.352300</td>\n",
       "    </tr>\n",
       "  </tbody>\n",
       "</table>\n",
       "</div>"
      ],
      "text/plain": [
       "                                            cosine_score  senti_score  \\\n",
       "product_name                                                            \n",
       " Cable Car Kriek                                0.115470     0.931804   \n",
       " Genealogy Of Morals   Bourbon Barrel Aged      0.055754     0.915800   \n",
       " Flora Plum                                     0.115470     0.892916   \n",
       "\n",
       "                                            word_similarity  eval_score_old  \\\n",
       "product_name                                                                  \n",
       " Cable Car Kriek                                   0.442121        1.047274   \n",
       " Genealogy Of Morals   Bourbon Barrel Aged         0.445813        0.971554   \n",
       " Flora Plum                                        0.459384        1.008386   \n",
       "\n",
       "                                            eval_score_new  \n",
       "product_name                                                \n",
       " Cable Car Kriek                                  1.373925  \n",
       " Genealogy Of Morals   Bourbon Barrel Aged        1.361613  \n",
       " Flora Plum                                       1.352300  "
      ]
     },
     "execution_count": 38,
     "metadata": {},
     "output_type": "execute_result"
    }
   ],
   "source": [
    "beer_rating.sort_values(by = ['eval_score_new'], ascending= False)[:3]"
   ]
  },
  {
   "cell_type": "markdown",
   "id": "ae9278df",
   "metadata": {},
   "source": [
    "# Part F"
   ]
  },
  {
   "cell_type": "markdown",
   "id": "0b6d07dd",
   "metadata": {},
   "source": [
    "Recommednation by cosine similarity"
   ]
  },
  {
   "cell_type": "code",
   "execution_count": 39,
   "id": "7a7a7d6b",
   "metadata": {
    "ExecuteTime": {
     "end_time": "2021-10-19T01:41:51.343158Z",
     "start_time": "2021-10-19T01:41:51.327439Z"
    }
   },
   "outputs": [
    {
     "data": {
      "text/html": [
       "<div>\n",
       "<style scoped>\n",
       "    .dataframe tbody tr th:only-of-type {\n",
       "        vertical-align: middle;\n",
       "    }\n",
       "\n",
       "    .dataframe tbody tr th {\n",
       "        vertical-align: top;\n",
       "    }\n",
       "\n",
       "    .dataframe thead th {\n",
       "        text-align: right;\n",
       "    }\n",
       "</style>\n",
       "<table border=\"1\" class=\"dataframe\">\n",
       "  <thead>\n",
       "    <tr style=\"text-align: right;\">\n",
       "      <th></th>\n",
       "      <th>cosine_score</th>\n",
       "      <th>senti_score</th>\n",
       "      <th>word_similarity</th>\n",
       "      <th>eval_score_old</th>\n",
       "      <th>eval_score_new</th>\n",
       "    </tr>\n",
       "    <tr>\n",
       "      <th>product_name</th>\n",
       "      <th></th>\n",
       "      <th></th>\n",
       "      <th></th>\n",
       "      <th></th>\n",
       "      <th></th>\n",
       "    </tr>\n",
       "  </thead>\n",
       "  <tbody>\n",
       "    <tr>\n",
       "      <th>Second Fiddle</th>\n",
       "      <td>0.421296</td>\n",
       "      <td>0.760596</td>\n",
       "      <td>0.447488</td>\n",
       "      <td>1.181892</td>\n",
       "      <td>1.208084</td>\n",
       "    </tr>\n",
       "    <tr>\n",
       "      <th>Emerald Grouper</th>\n",
       "      <td>0.279380</td>\n",
       "      <td>0.848120</td>\n",
       "      <td>0.479333</td>\n",
       "      <td>1.127500</td>\n",
       "      <td>1.327453</td>\n",
       "    </tr>\n",
       "    <tr>\n",
       "      <th>Dinner</th>\n",
       "      <td>0.280506</td>\n",
       "      <td>0.834944</td>\n",
       "      <td>0.473145</td>\n",
       "      <td>1.115450</td>\n",
       "      <td>1.308089</td>\n",
       "    </tr>\n",
       "  </tbody>\n",
       "</table>\n",
       "</div>"
      ],
      "text/plain": [
       "                  cosine_score  senti_score  word_similarity  eval_score_old  \\\n",
       "product_name                                                                   \n",
       " Second Fiddle        0.421296     0.760596         0.447488        1.181892   \n",
       " Emerald Grouper      0.279380     0.848120         0.479333        1.127500   \n",
       " Dinner               0.280506     0.834944         0.473145        1.115450   \n",
       "\n",
       "                  eval_score_new  \n",
       "product_name                      \n",
       " Second Fiddle          1.208084  \n",
       " Emerald Grouper        1.327453  \n",
       " Dinner                 1.308089  "
      ]
     },
     "execution_count": 39,
     "metadata": {},
     "output_type": "execute_result"
    }
   ],
   "source": [
    "beer_rating.sort_values(by = ['eval_score_old'], ascending= False)[:3]"
   ]
  },
  {
   "cell_type": "code",
   "execution_count": 40,
   "id": "e70d87bf",
   "metadata": {
    "ExecuteTime": {
     "end_time": "2021-10-19T01:41:51.427860Z",
     "start_time": "2021-10-19T01:41:51.412132Z"
    }
   },
   "outputs": [],
   "source": [
    "feature_count = review_change.groupby(by='product_name')[['product_review', 'hoppy', 'bitter', 'crisp']].agg(\n",
    "    {'product_review':'count','hoppy':sum, 'bitter':sum, 'crisp':sum})\n",
    "feature_count['hoppy'] = feature_count['hoppy'] / 25\n",
    "feature_count['bitter'] = feature_count['bitter'] / 25\n",
    "feature_count['crisp'] = feature_count['crisp'] / 25"
   ]
  },
  {
   "cell_type": "code",
   "execution_count": 41,
   "id": "32beef31",
   "metadata": {
    "ExecuteTime": {
     "end_time": "2021-10-19T01:41:51.510683Z",
     "start_time": "2021-10-19T01:41:51.495130Z"
    }
   },
   "outputs": [],
   "source": [
    "def testmap(s):\n",
    "    return s in [' Cable Car Kriek', \n",
    "                 ' Genealogy Of Morals   Bourbon Barrel Aged', \n",
    "                 ' Flora Plum', \n",
    "                 ' Emerald Grouper', \n",
    "                 ' Dinner', \n",
    "                 ' Pliny The Younger']"
   ]
  },
  {
   "cell_type": "code",
   "execution_count": 46,
   "id": "2064efb8",
   "metadata": {
    "ExecuteTime": {
     "end_time": "2021-10-19T01:43:30.184650Z",
     "start_time": "2021-10-19T01:43:30.171737Z"
    }
   },
   "outputs": [],
   "source": [
    "feature_count = feature_count.reset_index()"
   ]
  },
  {
   "cell_type": "code",
   "execution_count": 49,
   "id": "4e9dbeb3",
   "metadata": {
    "ExecuteTime": {
     "end_time": "2021-10-19T01:44:32.142038Z",
     "start_time": "2021-10-19T01:44:32.123035Z"
    },
    "scrolled": true
   },
   "outputs": [
    {
     "data": {
      "text/html": [
       "<div>\n",
       "<style scoped>\n",
       "    .dataframe tbody tr th:only-of-type {\n",
       "        vertical-align: middle;\n",
       "    }\n",
       "\n",
       "    .dataframe tbody tr th {\n",
       "        vertical-align: top;\n",
       "    }\n",
       "\n",
       "    .dataframe thead th {\n",
       "        text-align: right;\n",
       "    }\n",
       "</style>\n",
       "<table border=\"1\" class=\"dataframe\">\n",
       "  <thead>\n",
       "    <tr style=\"text-align: right;\">\n",
       "      <th></th>\n",
       "      <th>product_name</th>\n",
       "      <th>product_review</th>\n",
       "      <th>hoppy</th>\n",
       "      <th>bitter</th>\n",
       "      <th>crisp</th>\n",
       "    </tr>\n",
       "  </thead>\n",
       "  <tbody>\n",
       "    <tr>\n",
       "      <th>52</th>\n",
       "      <td>Cable Car Kriek</td>\n",
       "      <td>25</td>\n",
       "      <td>0.00</td>\n",
       "      <td>0.04</td>\n",
       "      <td>0.16</td>\n",
       "    </tr>\n",
       "    <tr>\n",
       "      <th>99</th>\n",
       "      <td>Flora Plum</td>\n",
       "      <td>25</td>\n",
       "      <td>0.00</td>\n",
       "      <td>0.00</td>\n",
       "      <td>0.20</td>\n",
       "    </tr>\n",
       "    <tr>\n",
       "      <th>114</th>\n",
       "      <td>Genealogy Of Morals   Bourbon Barrel Aged</td>\n",
       "      <td>25</td>\n",
       "      <td>0.00</td>\n",
       "      <td>0.08</td>\n",
       "      <td>0.04</td>\n",
       "    </tr>\n",
       "    <tr>\n",
       "      <th>74</th>\n",
       "      <td>Dinner</td>\n",
       "      <td>25</td>\n",
       "      <td>0.12</td>\n",
       "      <td>0.36</td>\n",
       "      <td>0.16</td>\n",
       "    </tr>\n",
       "    <tr>\n",
       "      <th>94</th>\n",
       "      <td>Emerald Grouper</td>\n",
       "      <td>25</td>\n",
       "      <td>0.16</td>\n",
       "      <td>0.32</td>\n",
       "      <td>0.16</td>\n",
       "    </tr>\n",
       "    <tr>\n",
       "      <th>193</th>\n",
       "      <td>Pliny The Younger</td>\n",
       "      <td>25</td>\n",
       "      <td>0.24</td>\n",
       "      <td>0.24</td>\n",
       "      <td>0.28</td>\n",
       "    </tr>\n",
       "  </tbody>\n",
       "</table>\n",
       "</div>"
      ],
      "text/plain": [
       "                                   product_name  product_review  hoppy  \\\n",
       "52                              Cable Car Kriek              25   0.00   \n",
       "99                                   Flora Plum              25   0.00   \n",
       "114   Genealogy Of Morals   Bourbon Barrel Aged              25   0.00   \n",
       "74                                       Dinner              25   0.12   \n",
       "94                              Emerald Grouper              25   0.16   \n",
       "193                           Pliny The Younger              25   0.24   \n",
       "\n",
       "     bitter  crisp  \n",
       "52     0.04   0.16  \n",
       "99     0.00   0.20  \n",
       "114    0.08   0.04  \n",
       "74     0.36   0.16  \n",
       "94     0.32   0.16  \n",
       "193    0.24   0.28  "
      ]
     },
     "execution_count": 49,
     "metadata": {},
     "output_type": "execute_result"
    }
   ],
   "source": [
    "feature_count[feature_count['product_name'].map(testmap)].sort_values('hoppy')"
   ]
  },
  {
   "cell_type": "markdown",
   "id": "a07ca6ab",
   "metadata": {},
   "source": [
    "For analysis, we are compared the top 3 recommended by cosine similarity and word2vec method. So, in total we will compared performance across 6 products.\n",
    "\n",
    "For these 6 products, we looked at the frequency of attritube/ feature words in the customer reviews.\n",
    "\n",
    "We can clearly see that products recommended by cosine similarity are out-performing the products recommended using word2vec. So, we can say that for this given problem bag-of-words approach is out-performing word2vec approach."
   ]
  },
  {
   "cell_type": "markdown",
   "id": "68017f38",
   "metadata": {},
   "source": [
    "# Part G"
   ]
  },
  {
   "cell_type": "code",
   "execution_count": 43,
   "id": "f22cceec",
   "metadata": {
    "ExecuteTime": {
     "end_time": "2021-10-19T01:42:14.470268Z",
     "start_time": "2021-10-19T01:42:14.458251Z"
    }
   },
   "outputs": [],
   "source": [
    "star_rating = pd.pivot_table(data = reviews, index='product_name', \n",
    "                             values = ['cosine_score', 'senti_score', 'word_similarity', 'user_rating'],\n",
    "                             aggfunc='mean')"
   ]
  },
  {
   "cell_type": "code",
   "execution_count": 44,
   "id": "74e8e71c",
   "metadata": {
    "ExecuteTime": {
     "end_time": "2021-10-19T01:42:15.373764Z",
     "start_time": "2021-10-19T01:42:15.355768Z"
    }
   },
   "outputs": [
    {
     "data": {
      "text/html": [
       "<div>\n",
       "<style scoped>\n",
       "    .dataframe tbody tr th:only-of-type {\n",
       "        vertical-align: middle;\n",
       "    }\n",
       "\n",
       "    .dataframe tbody tr th {\n",
       "        vertical-align: top;\n",
       "    }\n",
       "\n",
       "    .dataframe thead th {\n",
       "        text-align: right;\n",
       "    }\n",
       "</style>\n",
       "<table border=\"1\" class=\"dataframe\">\n",
       "  <thead>\n",
       "    <tr style=\"text-align: right;\">\n",
       "      <th></th>\n",
       "      <th>cosine_score</th>\n",
       "      <th>senti_score</th>\n",
       "      <th>user_rating</th>\n",
       "      <th>word_similarity</th>\n",
       "    </tr>\n",
       "    <tr>\n",
       "      <th>product_name</th>\n",
       "      <th></th>\n",
       "      <th></th>\n",
       "      <th></th>\n",
       "      <th></th>\n",
       "    </tr>\n",
       "  </thead>\n",
       "  <tbody>\n",
       "    <tr>\n",
       "      <th>Chemtrailmix</th>\n",
       "      <td>0.000000</td>\n",
       "      <td>0.805236</td>\n",
       "      <td>4.77160</td>\n",
       "      <td>0.414386</td>\n",
       "    </tr>\n",
       "    <tr>\n",
       "      <th>Blessed</th>\n",
       "      <td>0.046188</td>\n",
       "      <td>0.757964</td>\n",
       "      <td>4.74880</td>\n",
       "      <td>0.420133</td>\n",
       "    </tr>\n",
       "    <tr>\n",
       "      <th>Vanilla Bean Assassin</th>\n",
       "      <td>0.000000</td>\n",
       "      <td>0.856150</td>\n",
       "      <td>4.74625</td>\n",
       "      <td>0.414049</td>\n",
       "    </tr>\n",
       "  </tbody>\n",
       "</table>\n",
       "</div>"
      ],
      "text/plain": [
       "                        cosine_score  senti_score  user_rating  \\\n",
       "product_name                                                     \n",
       " Chemtrailmix               0.000000     0.805236      4.77160   \n",
       " Blessed                    0.046188     0.757964      4.74880   \n",
       " Vanilla Bean Assassin      0.000000     0.856150      4.74625   \n",
       "\n",
       "                        word_similarity  \n",
       "product_name                             \n",
       " Chemtrailmix                  0.414386  \n",
       " Blessed                       0.420133  \n",
       " Vanilla Bean Assassin         0.414049  "
      ]
     },
     "execution_count": 44,
     "metadata": {},
     "output_type": "execute_result"
    }
   ],
   "source": [
    "star_rating.sort_values(by='user_rating', ascending=False)[:3]"
   ]
  },
  {
   "cell_type": "markdown",
   "id": "590654c4",
   "metadata": {},
   "source": [
    "## Difference in Methods"
   ]
  },
  {
   "cell_type": "markdown",
   "id": "1de4621d",
   "metadata": {},
   "source": [
    "The recommendations change quite a bit between the two methods. The reason is because we are using the entire dataset rather than the products that have the attributes we are looking for ('hoppy', 'crisp','bitter'). Using all of the reviews is not going to recommend anything personal to the user. Just because a lot of people like it doesn't mean that everyone likes it. Just because lots of people like Blonde Beers and that they are highly rated doesn't mean that everyone will like them. This isn't about functionality- it's about taste, which differs person to person. That is why recommending the top rated beers without paying attention to similarity and sentiment isn't a good idea. You can see that the cosine-scores and the word_similarity scores are low even thought the user_ratings are high, further justifying that high rating does not necessarily mean that the user will prefer the product."
   ]
  },
  {
   "cell_type": "code",
   "execution_count": null,
   "id": "1e0c223a",
   "metadata": {},
   "outputs": [],
   "source": []
  }
 ],
 "metadata": {
  "kernelspec": {
   "display_name": "Python 3",
   "language": "python",
   "name": "python3"
  },
  "language_info": {
   "codemirror_mode": {
    "name": "ipython",
    "version": 3
   },
   "file_extension": ".py",
   "mimetype": "text/x-python",
   "name": "python",
   "nbconvert_exporter": "python",
   "pygments_lexer": "ipython3",
   "version": "3.8.8"
  },
  "notify_time": "30",
  "varInspector": {
   "cols": {
    "lenName": 16,
    "lenType": 16,
    "lenVar": 40
   },
   "kernels_config": {
    "python": {
     "delete_cmd_postfix": "",
     "delete_cmd_prefix": "del ",
     "library": "var_list.py",
     "varRefreshCmd": "print(var_dic_list())"
    },
    "r": {
     "delete_cmd_postfix": ") ",
     "delete_cmd_prefix": "rm(",
     "library": "var_list.r",
     "varRefreshCmd": "cat(var_dic_list()) "
    }
   },
   "types_to_exclude": [
    "module",
    "function",
    "builtin_function_or_method",
    "instance",
    "_Feature"
   ],
   "window_display": false
  }
 },
 "nbformat": 4,
 "nbformat_minor": 5
}
